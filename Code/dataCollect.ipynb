{
 "cells": [
  {
   "cell_type": "markdown",
   "metadata": {},
   "source": [
    "# get the links from Chrome browser history"
   ]
  },
  {
   "cell_type": "code",
   "execution_count": 10,
   "metadata": {},
   "outputs": [
    {
     "name": "stdout",
     "output_type": "stream",
     "text": [
      "Requirement already satisfied: browserhistory in /Users/bug/opt/anaconda3/lib/python3.9/site-packages (0.1.2)\n",
      "Note: you may need to restart the kernel to use updated packages.\n"
     ]
    }
   ],
   "source": [
    "%pip install browserhistory"
   ]
  },
  {
   "cell_type": "code",
   "execution_count": 11,
   "metadata": {},
   "outputs": [],
   "source": [
    "import browserhistory as bh     # extract browser history from a user's local computer and write the data to csv files.\n",
    "import sys      # manipulate different parts of the Python runtime environment.\n",
    "import sqlite3  # integrate the SQLite database with Python\n",
    "import csv      # implements classes to read and write tabular data in CSV format\n",
    "import os       # interacting with the operating system"
   ]
  },
  {
   "cell_type": "code",
   "execution_count": 12,
   "metadata": {},
   "outputs": [],
   "source": [
    "def get_database_paths() -> dict:\n",
    "    \"\"\"\n",
    "    Get paths to the database of browsers and store them in a dictionary.\n",
    "    It returns a dictionary: its key is the name of browser in str and its value is the path to database in str.\n",
    "    \"\"\"\n",
    "    platform_code = sys.platform\n",
    "    # if it is a macOS\n",
    "    if platform_code == 'darwin':       # Darwin is the core Unix operating system of macOS \n",
    "        cwd_path = os.getcwd()          # returns current working directory of this program.\n",
    "        cwd_path_list = cwd_path.split('/')\n",
    "        # it creates string paths to broswer databases\n",
    "        abs_chrome_path = os.path.join('/', cwd_path_list[1], cwd_path_list[2], 'Library', 'Application Support', 'Google/Chrome/Profile 1', 'History')     # macOS下，Chrome浏览器的浏览数据文件\n",
    "    return abs_chrome_path"
   ]
  },
  {
   "cell_type": "code",
   "execution_count": 13,
   "metadata": {},
   "outputs": [],
   "source": [
    "def get_browserhistory() -> list:\n",
    "    path = get_database_paths()\n",
    "    try:\n",
    "        conn = sqlite3.connect(path)        # sqlite3 access browser history database file.\n",
    "        cursor = conn.cursor()              # a Constructor create Cursor object.\n",
    "        # require 150 entries like 'url', 'title', 'time'\n",
    "        _SQL = \"\"\" \n",
    "            SELECT urls.url, urls.title, datetime((last_visit_time/1000000)+(strftime('%s', '1601-01-01')), 'unixepoch', 'localtime') as last_visit_time\n",
    "                FROM urls \n",
    "                WHERE datetime(last_visit_time / 1000000 + (strftime('%s', '1601-01-01')), 'unixepoch') LIKE (substr(date('now', 'localtime', '-7 day'), 0, 9) || '%')\n",
    "                ORDER BY last_visit_time DESC\n",
    "                limit 150 \n",
    "            \"\"\" \n",
    "        query_result = []\n",
    "        try:\n",
    "            cursor.execute(_SQL)                    # This routine executes an SQL statement.\n",
    "            query_result = cursor.fetchall()        # This routine fetches all (remaining) rows of a query result, returning a list. An empty list is returned when no rows are available.\n",
    "        # exceptions\n",
    "        except sqlite3.OperationalError:            # 2. browser opening\n",
    "            print('Please Completely Close your browser window')\n",
    "        except Exception as err:                    # 3. other errors like SQL grammar mistake\n",
    "            print(err)\n",
    "        # close cursor and connector for realsing memory\n",
    "        cursor.close()\n",
    "        conn.close()\n",
    "    except sqlite3.OperationalError:                # 1. access permission error\n",
    "        print('Database permission denied')\n",
    "        \n",
    "    return query_result"
   ]
  },
  {
   "cell_type": "code",
   "execution_count": 14,
   "metadata": {},
   "outputs": [],
   "source": [
    "def write_browserhistory_csv() -> None:\n",
    "    \"\"\"It writes csv files that contain the browser history in\n",
    "    the current working directory. It will writes csv files base on\n",
    "    the name of browsers the program detects.\"\"\"\n",
    "    query_result = get_browserhistory()\n",
    "    # convert list to dict\n",
    "    browserhistory = dict(zip(enumerate(query_result), query_result))\n",
    "\n",
    "    with open('history.csv', mode='w', encoding='utf-8', newline='') as csvfile:\n",
    "        csv_writer = csv.writer(csvfile, delimiter=',', quoting=csv.QUOTE_ALL)\n",
    "        if os.stat('history.csv').st_size == 0:\n",
    "            csv_writer.writerow(['url', 'title', 'time'])\n",
    "        for num, history in browserhistory.items():\n",
    "            csv_writer.writerow(history)"
   ]
  },
  {
   "cell_type": "code",
   "execution_count": 15,
   "metadata": {},
   "outputs": [],
   "source": [
    "write_browserhistory_csv()"
   ]
  }
 ],
 "metadata": {
  "kernelspec": {
   "display_name": "Python 3.9.12 ('base')",
   "language": "python",
   "name": "python3"
  },
  "language_info": {
   "codemirror_mode": {
    "name": "ipython",
    "version": 3
   },
   "file_extension": ".py",
   "mimetype": "text/x-python",
   "name": "python",
   "nbconvert_exporter": "python",
   "pygments_lexer": "ipython3",
   "version": "3.9.12"
  },
  "orig_nbformat": 4,
  "vscode": {
   "interpreter": {
    "hash": "30855fca1de1a9e76fb191234c06e457444d085aee49bba65a45b68036adabaf"
   }
  }
 },
 "nbformat": 4,
 "nbformat_minor": 2
}
